{
 "cells": [
  {
   "cell_type": "markdown",
   "metadata": {},
   "source": [
    "# Chicago Crime Rates #\n",
    "\n",
    "We would ultimately like to identify where the most crime rates happen throughout Chicago on a map that can be visualized. We can only use the data from 2012, as the CSV file is too big for JupyterHub to handle."
   ]
  },
  {
   "cell_type": "code",
   "execution_count": 9,
   "metadata": {},
   "outputs": [],
   "source": [
    "# import pandas, seaborn, numpy, and matplotlib\n",
    "import pandas as pd\n",
    "import seaborn as sns\n",
    "import numpy as np\n",
    "import matplotlib.pyplot as plt\n",
    "\n",
    "# importing datetime modules\n",
    "from datetime import date\n",
    "from datetime import time\n",
    "from datetime import datetime\n",
    "\n",
    "# importing calendar\n",
    "import calendar"
   ]
  },
  {
   "cell_type": "code",
   "execution_count": 10,
   "metadata": {},
   "outputs": [
    {
     "data": {
      "text/html": [
       "<div>\n",
       "<style scoped>\n",
       "    .dataframe tbody tr th:only-of-type {\n",
       "        vertical-align: middle;\n",
       "    }\n",
       "\n",
       "    .dataframe tbody tr th {\n",
       "        vertical-align: top;\n",
       "    }\n",
       "\n",
       "    .dataframe thead th {\n",
       "        text-align: right;\n",
       "    }\n",
       "</style>\n",
       "<table border=\"1\" class=\"dataframe\">\n",
       "  <thead>\n",
       "    <tr style=\"text-align: right;\">\n",
       "      <th></th>\n",
       "      <th>Case_Number</th>\n",
       "      <th>Date</th>\n",
       "      <th>Block</th>\n",
       "      <th>IUCR</th>\n",
       "      <th>Primary_Type</th>\n",
       "      <th>Description</th>\n",
       "      <th>Location_Description</th>\n",
       "      <th>Arrest</th>\n",
       "      <th>Domestic</th>\n",
       "      <th>Beat</th>\n",
       "      <th>...</th>\n",
       "      <th>Community_Area</th>\n",
       "      <th>FBI_Code</th>\n",
       "      <th>X_Coordinate</th>\n",
       "      <th>Y_Coordinate</th>\n",
       "      <th>Year</th>\n",
       "      <th>Latitude</th>\n",
       "      <th>Longitude</th>\n",
       "      <th>Location</th>\n",
       "      <th>Time</th>\n",
       "      <th>Date_Refurbished</th>\n",
       "    </tr>\n",
       "    <tr>\n",
       "      <th>ID</th>\n",
       "      <th></th>\n",
       "      <th></th>\n",
       "      <th></th>\n",
       "      <th></th>\n",
       "      <th></th>\n",
       "      <th></th>\n",
       "      <th></th>\n",
       "      <th></th>\n",
       "      <th></th>\n",
       "      <th></th>\n",
       "      <th></th>\n",
       "      <th></th>\n",
       "      <th></th>\n",
       "      <th></th>\n",
       "      <th></th>\n",
       "      <th></th>\n",
       "      <th></th>\n",
       "      <th></th>\n",
       "      <th></th>\n",
       "      <th></th>\n",
       "      <th></th>\n",
       "    </tr>\n",
       "  </thead>\n",
       "  <tbody>\n",
       "    <tr>\n",
       "      <th>10508693</th>\n",
       "      <td>HZ250496</td>\n",
       "      <td>2016-05-03 23:40:00</td>\n",
       "      <td>013XX S SAWYER AVE</td>\n",
       "      <td>486</td>\n",
       "      <td>BATTERY</td>\n",
       "      <td>DOMESTIC BATTERY SIMPLE</td>\n",
       "      <td>APARTMENT</td>\n",
       "      <td>True</td>\n",
       "      <td>True</td>\n",
       "      <td>1022.0</td>\n",
       "      <td>...</td>\n",
       "      <td>29.0</td>\n",
       "      <td>08B</td>\n",
       "      <td>1154907.0</td>\n",
       "      <td>1893681.0</td>\n",
       "      <td>2016.0</td>\n",
       "      <td>41.864073</td>\n",
       "      <td>-87.706819</td>\n",
       "      <td>(41.864073157, -87.706818608)</td>\n",
       "      <td>23:40</td>\n",
       "      <td>2016-05-03</td>\n",
       "    </tr>\n",
       "    <tr>\n",
       "      <th>10508695</th>\n",
       "      <td>HZ250409</td>\n",
       "      <td>2016-05-03 21:40:00</td>\n",
       "      <td>061XX S DREXEL AVE</td>\n",
       "      <td>486</td>\n",
       "      <td>BATTERY</td>\n",
       "      <td>DOMESTIC BATTERY SIMPLE</td>\n",
       "      <td>RESIDENCE</td>\n",
       "      <td>False</td>\n",
       "      <td>True</td>\n",
       "      <td>313.0</td>\n",
       "      <td>...</td>\n",
       "      <td>42.0</td>\n",
       "      <td>08B</td>\n",
       "      <td>1183066.0</td>\n",
       "      <td>1864330.0</td>\n",
       "      <td>2016.0</td>\n",
       "      <td>41.782922</td>\n",
       "      <td>-87.604363</td>\n",
       "      <td>(41.782921527, -87.60436317)</td>\n",
       "      <td>21:40</td>\n",
       "      <td>2016-05-03</td>\n",
       "    </tr>\n",
       "    <tr>\n",
       "      <th>10508697</th>\n",
       "      <td>HZ250503</td>\n",
       "      <td>2016-05-03 23:31:00</td>\n",
       "      <td>053XX W CHICAGO AVE</td>\n",
       "      <td>470</td>\n",
       "      <td>PUBLIC PEACE VIOLATION</td>\n",
       "      <td>RECKLESS CONDUCT</td>\n",
       "      <td>STREET</td>\n",
       "      <td>False</td>\n",
       "      <td>False</td>\n",
       "      <td>1524.0</td>\n",
       "      <td>...</td>\n",
       "      <td>25.0</td>\n",
       "      <td>24</td>\n",
       "      <td>1140789.0</td>\n",
       "      <td>1904819.0</td>\n",
       "      <td>2016.0</td>\n",
       "      <td>41.894908</td>\n",
       "      <td>-87.758372</td>\n",
       "      <td>(41.894908283, -87.758371958)</td>\n",
       "      <td>23:31</td>\n",
       "      <td>2016-05-03</td>\n",
       "    </tr>\n",
       "    <tr>\n",
       "      <th>10508698</th>\n",
       "      <td>HZ250424</td>\n",
       "      <td>2016-05-03 22:10:00</td>\n",
       "      <td>049XX W FULTON ST</td>\n",
       "      <td>460</td>\n",
       "      <td>BATTERY</td>\n",
       "      <td>SIMPLE</td>\n",
       "      <td>SIDEWALK</td>\n",
       "      <td>False</td>\n",
       "      <td>False</td>\n",
       "      <td>1532.0</td>\n",
       "      <td>...</td>\n",
       "      <td>25.0</td>\n",
       "      <td>08B</td>\n",
       "      <td>1143223.0</td>\n",
       "      <td>1901475.0</td>\n",
       "      <td>2016.0</td>\n",
       "      <td>41.885687</td>\n",
       "      <td>-87.749516</td>\n",
       "      <td>(41.885686845, -87.749515983)</td>\n",
       "      <td>22:10</td>\n",
       "      <td>2016-05-03</td>\n",
       "    </tr>\n",
       "    <tr>\n",
       "      <th>10508699</th>\n",
       "      <td>HZ250455</td>\n",
       "      <td>2016-05-03 22:00:00</td>\n",
       "      <td>003XX N LOTUS AVE</td>\n",
       "      <td>820</td>\n",
       "      <td>THEFT</td>\n",
       "      <td>$500 AND UNDER</td>\n",
       "      <td>RESIDENCE</td>\n",
       "      <td>False</td>\n",
       "      <td>True</td>\n",
       "      <td>1523.0</td>\n",
       "      <td>...</td>\n",
       "      <td>25.0</td>\n",
       "      <td>6</td>\n",
       "      <td>1139890.0</td>\n",
       "      <td>1901675.0</td>\n",
       "      <td>2016.0</td>\n",
       "      <td>41.886297</td>\n",
       "      <td>-87.761751</td>\n",
       "      <td>(41.886297242, -87.761750709)</td>\n",
       "      <td>22:00</td>\n",
       "      <td>2016-05-03</td>\n",
       "    </tr>\n",
       "  </tbody>\n",
       "</table>\n",
       "<p>5 rows × 22 columns</p>\n",
       "</div>"
      ],
      "text/plain": [
       "         Case_Number                 Date                Block IUCR  \\\n",
       "ID                                                                    \n",
       "10508693    HZ250496  2016-05-03 23:40:00   013XX S SAWYER AVE  486   \n",
       "10508695    HZ250409  2016-05-03 21:40:00   061XX S DREXEL AVE  486   \n",
       "10508697    HZ250503  2016-05-03 23:31:00  053XX W CHICAGO AVE  470   \n",
       "10508698    HZ250424  2016-05-03 22:10:00    049XX W FULTON ST  460   \n",
       "10508699    HZ250455  2016-05-03 22:00:00    003XX N LOTUS AVE  820   \n",
       "\n",
       "                    Primary_Type              Description  \\\n",
       "ID                                                          \n",
       "10508693                 BATTERY  DOMESTIC BATTERY SIMPLE   \n",
       "10508695                 BATTERY  DOMESTIC BATTERY SIMPLE   \n",
       "10508697  PUBLIC PEACE VIOLATION         RECKLESS CONDUCT   \n",
       "10508698                 BATTERY                   SIMPLE   \n",
       "10508699                   THEFT           $500 AND UNDER   \n",
       "\n",
       "         Location_Description Arrest Domestic    Beat       ...         \\\n",
       "ID                                                          ...          \n",
       "10508693            APARTMENT   True     True  1022.0       ...          \n",
       "10508695            RESIDENCE  False     True   313.0       ...          \n",
       "10508697               STREET  False    False  1524.0       ...          \n",
       "10508698             SIDEWALK  False    False  1532.0       ...          \n",
       "10508699            RESIDENCE  False     True  1523.0       ...          \n",
       "\n",
       "          Community_Area  FBI_Code  X_Coordinate Y_Coordinate    Year  \\\n",
       "ID                                                                      \n",
       "10508693            29.0       08B     1154907.0    1893681.0  2016.0   \n",
       "10508695            42.0       08B     1183066.0    1864330.0  2016.0   \n",
       "10508697            25.0        24     1140789.0    1904819.0  2016.0   \n",
       "10508698            25.0       08B     1143223.0    1901475.0  2016.0   \n",
       "10508699            25.0         6     1139890.0    1901675.0  2016.0   \n",
       "\n",
       "           Latitude  Longitude                       Location   Time  \\\n",
       "ID                                                                     \n",
       "10508693  41.864073 -87.706819  (41.864073157, -87.706818608)  23:40   \n",
       "10508695  41.782922 -87.604363   (41.782921527, -87.60436317)  21:40   \n",
       "10508697  41.894908 -87.758372  (41.894908283, -87.758371958)  23:31   \n",
       "10508698  41.885687 -87.749516  (41.885686845, -87.749515983)  22:10   \n",
       "10508699  41.886297 -87.761751  (41.886297242, -87.761750709)  22:00   \n",
       "\n",
       "         Date_Refurbished  \n",
       "ID                         \n",
       "10508693       2016-05-03  \n",
       "10508695       2016-05-03  \n",
       "10508697       2016-05-03  \n",
       "10508698       2016-05-03  \n",
       "10508699       2016-05-03  \n",
       "\n",
       "[5 rows x 22 columns]"
      ]
     },
     "execution_count": 10,
     "metadata": {},
     "output_type": "execute_result"
    }
   ],
   "source": [
    "# Reading the CSV file to understand how the formatting looks from importing\n",
    "df = pd.read_csv(\"test.csv\", index_col = \"ID\", parse_dates = [\"Date\"])\n",
    "df = df.dropna()\n",
    "\n",
    "# Creating the 'Time' variable for the dataframe df\n",
    "df['Date'] = df['Date'].astype(str)\n",
    "time = df.Date.str.slice(-8,-3)\n",
    "\n",
    "# Creating the 'Date' variable for dataframe df\n",
    "date = df.Date.str.slice(0,11)\n",
    "\n",
    "# Adding 2 new columns to df called 'Time' and 'Date_Refurbished'\n",
    "df['Time'] = time\n",
    "df['Date_Refurbished'] = date\n",
    "\n",
    "# Changing datatypes of 'Date' and 'Time' columns\n",
    "df['Date_Refurbished'] = pd.to_datetime(df['Date_Refurbished'])\n",
    "\n",
    "# Changing ALL Column Names because spaces suck\n",
    "df.rename(columns={'Primary Type':'Primary_Type', 'Case Number':'Case_Number', 'Location Description':'Location_Description', 'Community Area':'Community_Area', 'FBI Code':'FBI_Code', 'X Coordinate':'X_Coordinate', 'Y Coordinate':'Y_Coordinate',}, inplace = True)\n",
    "\n",
    "# Dropping \"Updated On\" and \"Unnamed: 0\" column as we do not see a use for it\n",
    "del df[\"Updated On\"]\n",
    "del df[\"Unnamed: 0\"]\n",
    "\n",
    "# Display the first few rows of the DataFrame\n",
    "df.head()"
   ]
  },
  {
   "cell_type": "code",
   "execution_count": 11,
   "metadata": {},
   "outputs": [
    {
     "name": "stdout",
     "output_type": "stream",
     "text": [
      "<class 'pandas.core.frame.DataFrame'>\n",
      "Int64Index: 17816 entries, 10508693 to 10538192\n",
      "Data columns (total 22 columns):\n",
      "Case_Number             17816 non-null object\n",
      "Date                    17816 non-null object\n",
      "Block                   17816 non-null object\n",
      "IUCR                    17816 non-null object\n",
      "Primary_Type            17816 non-null object\n",
      "Description             17816 non-null object\n",
      "Location_Description    17816 non-null object\n",
      "Arrest                  17816 non-null object\n",
      "Domestic                17816 non-null object\n",
      "Beat                    17816 non-null float64\n",
      "District                17816 non-null float64\n",
      "Ward                    17816 non-null float64\n",
      "Community_Area          17816 non-null float64\n",
      "FBI_Code                17816 non-null object\n",
      "X_Coordinate            17816 non-null float64\n",
      "Y_Coordinate            17816 non-null float64\n",
      "Year                    17816 non-null float64\n",
      "Latitude                17816 non-null float64\n",
      "Longitude               17816 non-null float64\n",
      "Location                17816 non-null object\n",
      "Time                    17816 non-null object\n",
      "Date_Refurbished        17816 non-null datetime64[ns]\n",
      "dtypes: datetime64[ns](1), float64(9), object(12)\n",
      "memory usage: 3.1+ MB\n"
     ]
    }
   ],
   "source": [
    "# Want to see the information for each column\n",
    "df.info()"
   ]
  },
  {
   "cell_type": "code",
   "execution_count": 12,
   "metadata": {},
   "outputs": [
    {
     "name": "stdout",
     "output_type": "stream",
     "text": [
      "['BATTERY' 'PUBLIC PEACE VIOLATION' 'THEFT' 'WEAPONS VIOLATION' 'ROBBERY'\n",
      " 'MOTOR VEHICLE THEFT' 'ASSAULT' 'OTHER OFFENSE' 'DECEPTIVE PRACTICE'\n",
      " 'CRIMINAL DAMAGE' 'CRIMINAL TRESPASS' 'BURGLARY' 'STALKING'\n",
      " 'CRIM SEXUAL ASSAULT' 'NARCOTICS' 'SEX OFFENSE' 'HOMICIDE'\n",
      " 'OFFENSE INVOLVING CHILDREN' 'INTERFERENCE WITH PUBLIC OFFICER'\n",
      " 'PROSTITUTION' 'KIDNAPPING' 'GAMBLING' 'INTIMIDATION' 'ARSON'\n",
      " 'LIQUOR LAW VIOLATION' 'OBSCENITY' 'NON-CRIMINAL' 'PUBLIC INDECENCY'\n",
      " 'HUMAN TRAFFICKING']\n",
      "29\n"
     ]
    },
    {
     "data": {
      "text/plain": [
       "THEFT                               3759\n",
       "BATTERY                             3576\n",
       "CRIMINAL DAMAGE                     2106\n",
       "ASSAULT                             1330\n",
       "NARCOTICS                           1320\n",
       "OTHER OFFENSE                       1114\n",
       "DECEPTIVE PRACTICE                   924\n",
       "BURGLARY                             905\n",
       "ROBBERY                              715\n",
       "MOTOR VEHICLE THEFT                  613\n",
       "CRIMINAL TRESPASS                    455\n",
       "WEAPONS VIOLATION                    275\n",
       "OFFENSE INVOLVING CHILDREN           162\n",
       "PUBLIC PEACE VIOLATION               117\n",
       "CRIM SEXUAL ASSAULT                  103\n",
       "INTERFERENCE WITH PUBLIC OFFICER      67\n",
       "PROSTITUTION                          57\n",
       "SEX OFFENSE                           55\n",
       "HOMICIDE                              54\n",
       "ARSON                                 38\n",
       "LIQUOR LAW VIOLATION                  16\n",
       "GAMBLING                              16\n",
       "KIDNAPPING                            13\n",
       "INTIMIDATION                          11\n",
       "STALKING                               7\n",
       "OBSCENITY                              3\n",
       "PUBLIC INDECENCY                       2\n",
       "NON-CRIMINAL                           2\n",
       "HUMAN TRAFFICKING                      1\n",
       "Name: Primary_Type, dtype: int64"
      ]
     },
     "execution_count": 12,
     "metadata": {},
     "output_type": "execute_result"
    },
    {
     "data": {
      "image/png": "[encoded data removed]",
      "text/plain": [
       "<Figure size 432x288 with 1 Axes>"
      ]
     },
     "metadata": {
      "needs_background": "light"
     },
     "output_type": "display_data"
    }
   ],
   "source": [
    "# Creating a bar chart showing the count of different types of crimes in Chicago\n",
    "# I have to identify the unique values that are in the column \"Year\"\n",
    "x_unique = df.Primary_Type.unique()\n",
    "print(x_unique)\n",
    "print(len(x_unique))\n",
    "\n",
    "# Show initial bar chart of 'Primary_Type's of crimes in Chicago\n",
    "plt.barh(x_unique, df['Primary_Type'].value_counts())\n",
    "plt.xlabel('Type of Crime Committed')\n",
    "plt.ylabel('Total Count')\n",
    "plt.title('Overview of Crimes Committed')\n",
    "\n",
    "# Value counts for each x_unique identifiers\n",
    "df['Primary_Type'].value_counts()"
   ]
  },
  {
   "cell_type": "code",
   "execution_count": 13,
   "metadata": {},
   "outputs": [
    {
     "data": {
      "text/plain": [
       "Text(0.5,1,'Crimes that have happened 500+ Times')"
      ]
     },
     "execution_count": 13,
     "metadata": {},
     "output_type": "execute_result"
    },
    {
     "data": {
      "image/png": "[encoded data removed]",
      "text/plain": [
       "<Figure size 432x288 with 1 Axes>"
      ]
     },
     "metadata": {
      "needs_background": "light"
     },
     "output_type": "display_data"
    }
   ],
   "source": [
    "# Value counts for each x_unique identifier greater than 500\n",
    "x_unique_500 = df['Primary_Type'].value_counts()[df['Primary_Type'].value_counts()>500]\n",
    "\n",
    "# Create dataframe for x_unique_500 variable\n",
    "df_2 = pd.DataFrame(x_unique_500)\n",
    "\n",
    "# Renaming Index and Column for df_2 dataframe\n",
    "df_2.index.rename('Primary_Type', inplace=True)\n",
    "df_2.rename(columns={'Primary_Type':'Total_Count'}, inplace=True)\n",
    "\n",
    "# Horizontal plot showing the values that are greater than 500\n",
    "plt.barh(df_2.index.values,df_2['Total_Count'])\n",
    "plt.xlabel('Total Count of Crime')\n",
    "plt.ylabel('Type of Crime')\n",
    "plt.title('Crimes that have happened 500+ Times')"
   ]
  },
  {
   "cell_type": "markdown",
   "metadata": {},
   "source": [
    "We want to only show the primary types of crime that were document more than 500 times. Below, we are going to create a plot showing the primary types of crime that were documented less than 500 times."
   ]
  },
  {
   "cell_type": "code",
   "execution_count": 14,
   "metadata": {},
   "outputs": [
    {
     "data": {
      "text/plain": [
       "Text(0.5,1,'Crimes that have happened 500+ Times')"
      ]
     },
     "execution_count": 14,
     "metadata": {},
     "output_type": "execute_result"
    },
    {
     "data": {
      "image/png": "[encoded data removed]",
      "text/plain": [
       "<Figure size 432x288 with 1 Axes>"
      ]
     },
     "metadata": {
      "needs_background": "light"
     },
     "output_type": "display_data"
    }
   ],
   "source": [
    "# Creating a new variable that has all 'Primary_Types' less than 500 times documented\n",
    "x_unique_500_1 = df['Primary_Type'].value_counts()[df['Primary_Type'].value_counts()<500]\n",
    "\n",
    "# Creating a new DataFrame with the x_unique_500_1 variable\n",
    "df_3 = pd.DataFrame(x_unique_500_1)\n",
    "\n",
    "# Renaming the Index and Column for df_3 dataframe\n",
    "df_3.index.rename('Primary_Type', inplace=True)\n",
    "df_3.rename(columns={'Primary_Type':'Total_Count'}, inplace=True)\n",
    "\n",
    "# Plotting df_3 with a horizontal bar chart\n",
    "plt.barh(df_3.index.values,df_3['Total_Count'])\n",
    "plt.xlabel('Total Count')\n",
    "plt.ylabel('Type of Crime')\n",
    "plt.title('Crimes that have happened 500+ Times')"
   ]
  },
  {
   "cell_type": "markdown",
   "metadata": {},
   "source": [
    "### Visualized the locations of crimes throughout Chicago ###"
   ]
  },
  {
   "cell_type": "code",
   "execution_count": 34,
   "metadata": {},
   "outputs": [
    {
     "name": "stdout",
     "output_type": "stream",
     "text": [
      "STREET       4038\n",
      "RESIDENCE    2742\n",
      "APARTMENT    2196\n",
      "SIDEWALK     1773\n",
      "OTHER         661\n",
      "Name: Location_Description, dtype: int64\n"
     ]
    }
   ],
   "source": [
    "# Show the amount of times that crimes occur in different types of locations\n",
    "different_locations = df['Location_Description'].value_counts().head()\n",
    "\n",
    "print(different_locations)"
   ]
  },
  {
   "cell_type": "code",
   "execution_count": 33,
   "metadata": {},
   "outputs": [
    {
     "data": {
      "text/plain": [
       "Text(0.5,1,'Crimes that happened 100 or more times at a Location')"
      ]
     },
     "execution_count": 33,
     "metadata": {},
     "output_type": "execute_result"
    },
    {
     "data": {
      "image/png": "[encoded data removed]",
      "text/plain": [
       "<Figure size 432x288 with 1 Axes>"
      ]
     },
     "metadata": {
      "needs_background": "light"
     },
     "output_type": "display_data"
    }
   ],
   "source": [
    "# Create seperate variables for the x/y variable\n",
    "x_location_unique = df.Location_Description.unique()\n",
    "\n",
    "# Creating a variable for locations appearing 100 times or more; as well as the dataframe for the variable\n",
    "x_location_100 = df['Location_Description'].value_counts()[df['Location_Description'].value_counts()>100]\n",
    "df_4 = pd.DataFrame(x_location_100)\n",
    "\n",
    "# Renaming the column headers for the new dataframe\n",
    "df_4.index.rename('Location_Description', inplace=True)\n",
    "df_4.rename(columns={'Location_Description':'Total_Count'}, inplace=True)\n",
    "\n",
    "# Creating a horizontal bar chart of locations that appeared 100 times or more\n",
    "plt.barh(df_4.index.values, df_4['Total_Count'])\n",
    "plt.xlabel('Total Count')\n",
    "plt.ylabel('Location of Crime')\n",
    "plt.title('Crimes that happened 100 or more times at a Location')"
   ]
  },
  {
   "cell_type": "markdown",
   "metadata": {},
   "source": [
    "### Understanding if there are certain days that crimes tend to happen more often on ###"
   ]
  },
  {
   "cell_type": "code",
   "execution_count": 35,
   "metadata": {},
   "outputs": [
    {
     "name": "stdout",
     "output_type": "stream",
     "text": [
      "2016-05-13    748\n",
      "2016-05-06    735\n",
      "2016-05-18    714\n",
      "2016-05-16    714\n",
      "2016-05-07    704\n",
      "Name: Date_Refurbished, dtype: int64\n"
     ]
    }
   ],
   "source": [
    "# Show the amount of crimes that happened on the day (total)\n",
    "different_times = df['Date_Refurbished'].value_counts().head()\n",
    "print(different_times)"
   ]
  },
  {
   "cell_type": "markdown",
   "metadata": {},
   "source": [
    "#### Why is this weird? ####"
   ]
  },
  {
   "cell_type": "markdown",
   "metadata": {},
   "source": [
    "When looking through our data, it seems that there are days that seem to have a lot of crimes be committed in a day, and then the next day there may be one. The conclusion that we have come to is that either the 'Date' that is listed as a column is the 'Date' that the crime was entered into the system, or that we could not load the entire data set into JupyterHub because it would crash the server."
   ]
  },
  {
   "cell_type": "markdown",
   "metadata": {},
   "source": [
    "### Time of Day that Crimes Occur ###"
   ]
  },
  {
   "cell_type": "code",
   "execution_count": 40,
   "metadata": {},
   "outputs": [
    {
     "name": "stdout",
     "output_type": "stream",
     "text": [
      "09:00    383\n",
      "18:00    363\n",
      "17:00    333\n",
      "16:00    329\n",
      "12:00    316\n",
      "Name: Time, dtype: int64\n"
     ]
    }
   ],
   "source": [
    "# Creating a variable that will display the amount of crimes that occur at a certain time (Military Time)\n",
    "different_hours = df['Time'].value_counts().head()\n",
    "print(different_hours)"
   ]
  },
  {
   "cell_type": "code",
   "execution_count": null,
   "metadata": {},
   "outputs": [],
   "source": []
  }
 ],
 "metadata": {
  "kernelspec": {
   "display_name": "Python 3",
   "language": "python",
   "name": "python3"
  },
  "language_info": {
   "codemirror_mode": {
    "name": "ipython",
    "version": 3
   },
   "file_extension": ".py",
   "mimetype": "text/x-python",
   "name": "python",
   "nbconvert_exporter": "python",
   "pygments_lexer": "ipython3",
   "version": "3.7.0"
  }
 },
 "nbformat": 4,
 "nbformat_minor": 2
}
