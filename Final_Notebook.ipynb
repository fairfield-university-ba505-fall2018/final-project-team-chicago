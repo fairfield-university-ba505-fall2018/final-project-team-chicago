{
 "cells": [
  {
   "cell_type": "markdown",
   "metadata": {},
   "source": [
    "# Chicago Crime Rates #\n",
    "\n",
    "## 2012 ##\n",
    "\n",
    "We would ultimately like to identify where the most crime rates happen throughout Chicago on a map that can be visualized. We can only use the data from 2012, as the CSV file is too big for JupyterHub to handle."
   ]
  },
  {
   "cell_type": "code",
   "execution_count": null,
   "metadata": {},
   "outputs": [],
   "source": [
    "# import pandas, seaborn, numpy, and matplotlib\n",
    "import pandas as pd\n",
    "import seaborn as sns\n",
    "import numpy as np\n",
    "import matplotlib.pyplot as plt"
   ]
  },
  {
   "cell_type": "code",
   "execution_count": null,
   "metadata": {},
   "outputs": [],
   "source": [
    "# Reading the CSV file to understand how the formatting looks from importing\n",
    "dataframe = pd.read_csv(\"test.csv\", index_col = \"ID\", parse_dates = [\"Date\"])\n",
    "dataframe = dataframe.dropna()\n",
    "\n",
    "# Changing the column \"Year\" to numeric as it is a float\n",
    "dataframe[\"Year\"] = pd.to_numeric(dataframe['Year'])\n",
    "\n",
    "# Dropping \"Unnamed: 0\" column as it is not specified for any use\n",
    "del dataframe[\"Unnamed: 0\"]\n",
    "\n",
    "# Dropping \"Updated On\" column as we do not see a use for it\n",
    "del dataframe[\"Updated On\"]\n",
    "dataframe"
   ]
  },
  {
   "cell_type": "code",
   "execution_count": null,
   "metadata": {},
   "outputs": [],
   "source": [
    "# Creating a bar chart showing the count of different types of crimes in Chicago\n",
    "# I have to identify the unique values that are in the column \"Year\"\n",
    "x_unique = dataframe.Year.unique()\n",
    "print(x_unique)\n",
    "\n",
    "#Create a Bar Chart with the variables that I have created\n",
    "plt.bar(dataframe[\"Year\"], dataframe[\"ID\"])"
   ]
  },
  {
   "cell_type": "code",
   "execution_count": null,
   "metadata": {},
   "outputs": [],
   "source": []
  }
 ],
 "metadata": {
  "kernelspec": {
   "display_name": "Python 3",
   "language": "python",
   "name": "python3"
  },
  "language_info": {
   "codemirror_mode": {
    "name": "ipython",
    "version": 3
   },
   "file_extension": ".py",
   "mimetype": "text/x-python",
   "name": "python",
   "nbconvert_exporter": "python",
   "pygments_lexer": "ipython3",
   "version": "3.6.5"
  }
 },
 "nbformat": 4,
 "nbformat_minor": 2
}
