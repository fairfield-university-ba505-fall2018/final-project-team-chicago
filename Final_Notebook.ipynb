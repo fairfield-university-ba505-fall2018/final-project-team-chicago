{
 "cells": [
  {
   "cell_type": "markdown",
   "metadata": {},
   "source": [
    "# Chicago Crime Rates #\n",
    "\n",
    "We would ultimately like to identify where the most crime rates happen throughout Chicago on a map that can be visualized. We can only use the data from 2012, as the CSV file is too big for JupyterHub to handle."
   ]
  },
  {
   "cell_type": "code",
   "execution_count": null,
   "metadata": {},
   "outputs": [],
   "source": [
    "# import pandas, seaborn, numpy, and matplotlib\n",
    "import pandas as pd\n",
    "import seaborn as sns\n",
    "import numpy as np\n",
    "import matplotlib.pyplot as plt\n",
    "\n",
    "# importing datetime modules\n",
    "from datetime import date\n",
    "from datetime import time\n",
    "import datetime\n",
    "\n",
    "# importing calendar\n",
    "import calendar"
   ]
  },
  {
   "cell_type": "code",
   "execution_count": null,
   "metadata": {},
   "outputs": [],
   "source": [
    "# Reading the CSV file to understand how the formatting looks from importing\n",
    "df = pd.read_csv(\"test.csv\", index_col = \"ID\", parse_dates = [\"Date\"])\n",
    "df = df.dropna()\n",
    "\n",
    "# Creating the 'Time' variable for the dataframe df\n",
    "df['Date'] = df['Date'].astype(str)\n",
    "time = df.Date.str.slice(-8,-3)\n",
    "\n",
    "# Creating the 'Date' variable for dataframe df\n",
    "date = df.Date.str.slice(0,11)\n",
    "\n",
    "# Adding 2 new columns to df called 'Time' and 'Date_Refurbished'\n",
    "df['Time'] = time\n",
    "df['Date_Refurbished'] = date\n",
    "\n",
    "# Changing datatypes of 'Date' and 'Time' columns\n",
    "df['Date_Refurbished'] = pd.to_datetime(df['Date_Refurbished'])\n",
    "\n",
    "# Changing ALL Column Names because spaces suck\n",
    "df.rename(columns={'Primary Type':'Primary_Type', 'Case Number':'Case_Number', 'Location Description':'Location_Description', 'Community Area':'Community_Area', 'FBI Code':'FBI_Code', 'X Coordinate':'X_Coordinate', 'Y Coordinate':'Y_Coordinate',}, inplace = True)\n",
    "\n",
    "# Dropping \"Updated On\" and \"Unnamed: 0\" column as we do not see a use for it\n",
    "del df[\"Updated On\"]\n",
    "del df[\"Unnamed: 0\"]\n",
    "\n",
    "# Display the first few rows of the DataFrame\n",
    "df.head()"
   ]
  },
  {
   "cell_type": "code",
   "execution_count": null,
   "metadata": {},
   "outputs": [],
   "source": [
    "# Want to see the information for each column\n",
    "df.info()"
   ]
  },
  {
   "cell_type": "code",
   "execution_count": null,
   "metadata": {},
   "outputs": [],
   "source": [
    "# Creating a bar chart showing the count of different types of crimes in Chicago\n",
    "# I have to identify the unique values that are in the column \"Year\"\n",
    "x_unique = df.Primary_Type.unique()\n",
    "print(x_unique)\n",
    "print(len(x_unique))\n",
    "\n",
    "# Show initial bar chart of 'Primary_Type's of crimes in Chicago\n",
    "plt.barh(x_unique, df['Primary_Type'].value_counts())\n",
    "plt.xlabel('Type of Crime Committed')\n",
    "plt.ylabel('Total Count')\n",
    "plt.title('Overview of Crimes Committed')\n",
    "\n",
    "# Value counts for each x_unique identifiers\n",
    "df['Primary_Type'].value_counts()"
   ]
  },
  {
   "cell_type": "code",
   "execution_count": null,
   "metadata": {},
   "outputs": [],
   "source": [
    "# Value counts for each x_unique identifier greater than 500\n",
    "x_unique_500 = df['Primary_Type'].value_counts()[df['Primary_Type'].value_counts()>500]\n",
    "\n",
    "# Create dataframe for x_unique_500 variable\n",
    "df_2 = pd.DataFrame(x_unique_500)\n",
    "\n",
    "# Renaming Index and Column for df_2 dataframe\n",
    "df_2.index.rename('Primary_Type', inplace=True)\n",
    "df_2.rename(columns={'Primary_Type':'Total_Count'}, inplace=True)\n",
    "\n",
    "# Horizontal plot showing the values that are greater than 500\n",
    "plt.barh(df_2.index.values,df_2['Total_Count'])\n",
    "plt.xlabel('Total Count of Crime')\n",
    "plt.ylabel('Type of Crime')\n",
    "plt.title('Crimes that have happened 500+ Times')"
   ]
  },
  {
   "cell_type": "markdown",
   "metadata": {},
   "source": [
    "We want to only show the primary types of crime that were document more than 500 times. Below, we are going to create a plot showing the primary types of crime that were documented less than 500 times."
   ]
  },
  {
   "cell_type": "code",
   "execution_count": null,
   "metadata": {},
   "outputs": [],
   "source": [
    "# Creating a new variable that has all 'Primary_Types' less than 500 times documented\n",
    "x_unique_500_1 = df['Primary_Type'].value_counts()[df['Primary_Type'].value_counts()<500]\n",
    "\n",
    "# Creating a new DataFrame with the x_unique_500_1 variable\n",
    "df_3 = pd.DataFrame(x_unique_500_1)\n",
    "\n",
    "# Renaming the Index and Column for df_3 dataframe\n",
    "df_3.index.rename('Primary_Type', inplace=True)\n",
    "df_3.rename(columns={'Primary_Type':'Total_Count'}, inplace=True)\n",
    "\n",
    "# Plotting df_3 with a horizontal bar chart\n",
    "plt.barh(df_3.index.values,df_3['Total_Count'])\n",
    "plt.xlabel('Total Count')\n",
    "plt.ylabel('Type of Crime')\n",
    "plt.title('Crimes that have happened 500+ Times')"
   ]
  },
  {
   "cell_type": "markdown",
   "metadata": {},
   "source": [
    "### Visualized the locations of crimes throughout Chicago ###"
   ]
  },
  {
   "cell_type": "code",
   "execution_count": null,
   "metadata": {},
   "outputs": [],
   "source": [
    "# Show the amount of times that crimes occur in different types of locations\n",
    "different_locations = df['Location_Description'].value_counts().head()\n",
    "\n",
    "print(different_locations)"
   ]
  },
  {
   "cell_type": "code",
   "execution_count": null,
   "metadata": {},
   "outputs": [],
   "source": [
    "# Create seperate variables for the x/y variable\n",
    "x_location_unique = df.Location_Description.unique()\n",
    "\n",
    "# Creating a variable for locations appearing 100 times or more; as well as the dataframe for the variable\n",
    "x_location_100 = df['Location_Description'].value_counts()[df['Location_Description'].value_counts()>100]\n",
    "df_4 = pd.DataFrame(x_location_100)\n",
    "\n",
    "# Renaming the column headers for the new dataframe\n",
    "df_4.index.rename('Location_Description', inplace=True)\n",
    "df_4.rename(columns={'Location_Description':'Total_Count'}, inplace=True)\n",
    "\n",
    "# Creating a horizontal bar chart of locations that appeared 100 times or more\n",
    "plt.barh(df_4.index.values, df_4['Total_Count'])\n",
    "plt.xlabel('Total Count')\n",
    "plt.ylabel('Location of Crime')\n",
    "plt.title('Crimes that happened 100 or more times at a Location')"
   ]
  },
  {
   "cell_type": "markdown",
   "metadata": {},
   "source": [
    "### Understanding if there are certain days that crimes tend to happen more often on ###"
   ]
  },
  {
   "cell_type": "code",
   "execution_count": null,
   "metadata": {},
   "outputs": [],
   "source": [
    "# Show the amount of crimes that happened on the day (total)\n",
    "different_times = df['Date_Refurbished'].value_counts().head()\n",
    "print(different_times)"
   ]
  },
  {
   "cell_type": "markdown",
   "metadata": {},
   "source": [
    "#### Why is this weird? ####"
   ]
  },
  {
   "cell_type": "markdown",
   "metadata": {},
   "source": [
    "When looking through our data, it seems that there are days that seem to have a lot of crimes be committed in a day, and then the next day there may be one. The conclusion that we have come to is that either the 'Date' that is listed as a column is the 'Date' that the crime was entered into the system, or that we could not load the entire data set into JupyterHub because it would crash the server."
   ]
  },
  {
   "cell_type": "markdown",
   "metadata": {},
   "source": [
    "### Time of Day that Crimes Occur ###"
   ]
  },
  {
   "cell_type": "code",
   "execution_count": null,
   "metadata": {},
   "outputs": [],
   "source": [
    "# Creating a variable that will display the amount of crimes that occur at a certain time (Military Time)\n",
    "different_hours = df['Time'].value_counts().head()\n",
    "print(different_hours)\n",
    "\n",
    "# Creating a new dataframe for the 'Time' column; renaming columns to appropriate titles\n",
    "df_5 = pd.DataFrame(different_hours)\n",
    "df_5.index.rename('Time', inplace=True)\n",
    "df_5.rename(columns={'Time':'Total_Count'}, inplace=True)\n",
    "\n",
    "# Creating a scatter chart for the 'Time' column to show differences in crimes committed in certain hours\n",
    "plt.scatter(df.index.values, df_5['Total_Count'])"
   ]
  },
  {
   "cell_type": "code",
   "execution_count": null,
   "metadata": {},
   "outputs": [],
   "source": []
  }
 ],
 "metadata": {
  "kernelspec": {
   "display_name": "Python 3",
   "language": "python",
   "name": "python3"
  },
  "language_info": {
   "codemirror_mode": {
    "name": "ipython",
    "version": 3
   },
   "file_extension": ".py",
   "mimetype": "text/x-python",
   "name": "python",
   "nbconvert_exporter": "python",
   "pygments_lexer": "ipython3",
   "version": "3.7.0"
  }
 },
 "nbformat": 4,
 "nbformat_minor": 2
}
